{
 "cells": [
  {
   "cell_type": "markdown",
   "id": "5e9aa011-006b-4940-8b2b-1a9fa81ab16a",
   "metadata": {},
   "source": [
    "# Scrape doctorpiter.ru"
   ]
  },
  {
   "cell_type": "markdown",
   "id": "1ea10cbe-f3ec-4dbb-99a2-ad1a220b5586",
   "metadata": {},
   "source": [
    "This is a parser for https://doctorpiter.ru/ to scrape news with topics \"zdorove\", \"pravilnoe-pitanie\".\n",
    "These topics relate to the competition topic 'wellness'. "
   ]
  },
  {
   "cell_type": "code",
   "execution_count": 26,
   "id": "2d962d17-858d-4c69-9227-825547c60041",
   "metadata": {},
   "outputs": [],
   "source": [
    "import re\n",
    "import time\n",
    "import datetime\n",
    "import pandas as pd\n",
    "from tqdm import tqdm\n",
    "from bs4 import BeautifulSoup\n",
    "from selenium import webdriver\n",
    "from itertools import chain\n",
    "import requests\n",
    "import random\n",
    "#from selenium.webdriver.common.by import By\n",
    "from dataclasses import dataclass"
   ]
  },
  {
   "cell_type": "code",
   "execution_count": 27,
   "id": "deca032a-27d7-4bd6-ae48-a5d97dccb4ac",
   "metadata": {},
   "outputs": [],
   "source": [
    "BASE_URL = 'https://doctorpiter.ru/'\n",
    "TOPICS = ['zdorove', 'pravilnoe-pitanie']"
   ]
  },
  {
   "cell_type": "code",
   "execution_count": 28,
   "id": "b99dc62e-9d38-4ae3-809a-4c442539f5d0",
   "metadata": {},
   "outputs": [],
   "source": [
    "@dataclass\n",
    "class Article:\n",
    "    url: str = None\n",
    "    content: str = None"
   ]
  },
  {
   "cell_type": "code",
   "execution_count": 29,
   "id": "f8b5df99-2b31-445e-ac07-11cb063f6ec3",
   "metadata": {},
   "outputs": [],
   "source": [
    "def get_page(p, topic):\n",
    "    items = []\n",
    "    \n",
    "    # изготовили ссылку\n",
    "    url = f'https://doctorpiter.ru/{topic}/page-{p}/'\n",
    "    topic = topic\n",
    "\n",
    "    # сходили по ней\n",
    "    response = requests.get(url)\n",
    "\n",
    "    # построили дерево\n",
    "    soup = BeautifulSoup(response.content, 'html.parser')\n",
    "    \n",
    "    # нашли в нём всё самое интересное\n",
    "    current_page_items = soup.find_all(\"a\", {\"class\": \"announce-inline-tile chronology__announcement _desktop _xsmall _round\"})\n",
    "    all_hrefs = [element['href'] for element in current_page_items]\n",
    "    items.append(all_hrefs)\n",
    "\n",
    "    return items"
   ]
  },
  {
   "cell_type": "code",
   "execution_count": 30,
   "id": "d1bc1ba7-f043-4e77-b21f-9f74169fde85",
   "metadata": {},
   "outputs": [
    {
     "name": "stderr",
     "output_type": "stream",
     "text": [
      "Processing Pages: 100%|██████████| 398/398 [04:38<00:00,  1.43it/s]\n",
      "Processing Pages: 100%|██████████| 398/398 [02:29<00:00,  2.67it/s]\n"
     ]
    }
   ],
   "source": [
    "info = []\n",
    "for topic in TOPICS:\n",
    "    for p in tqdm(range(2, 400), desc=\"Processing Pages\"):\n",
    "        info.extend(get_page(p, topic))"
   ]
  },
  {
   "cell_type": "code",
   "execution_count": 31,
   "id": "2de0a154-ab0f-4d55-b06f-27efbd75e6cf",
   "metadata": {},
   "outputs": [
    {
     "data": {
      "text/plain": [
       "9552"
      ]
     },
     "execution_count": 31,
     "metadata": {},
     "output_type": "execute_result"
    }
   ],
   "source": [
    "pages = list(chain(*info))\n",
    "len(pages)"
   ]
  },
  {
   "cell_type": "code",
   "execution_count": 22,
   "id": "b30ac1a1-6e6c-4e50-a560-d5de59544c66",
   "metadata": {},
   "outputs": [],
   "source": [
    "def parse_page(page):\n",
    "    \"\"\"Extract from page desired fields\"\"\"\n",
    "    \n",
    "    info = []\n",
    "\n",
    "    # Create article data class object\n",
    "    article = Article()\n",
    "\n",
    "    # article url\n",
    "    article.url =  BASE_URL + page\n",
    "    #print(article.url)\n",
    "    \n",
    "    # load page\n",
    "    response = requests.get(article.url)\n",
    "\n",
    "    # article object\n",
    "    soup = BeautifulSoup(response.text, \"html.parser\")\n",
    "   \n",
    "    # article content\n",
    "    article_body = soup.find_all('div', {'class': 'ds-block-text text-style-body-1 ds-article-content__block ds-article-content__block_text'})\n",
    "    #print(article_body)\n",
    "    \n",
    "    full_text = \"\"\n",
    "    if article_body:\n",
    "        #content = article_body.find_all('p')\n",
    "        full_text = \" \".join([block.text for block in article_body])\n",
    "\n",
    "    article.content  = full_text.strip()\n",
    "    \n",
    "    \n",
    "    return article"
   ]
  },
  {
   "cell_type": "code",
   "execution_count": 32,
   "id": "c9f849e0-7458-480a-8ee5-e0988f4bb71b",
   "metadata": {
    "tags": []
   },
   "outputs": [
    {
     "name": "stderr",
     "output_type": "stream",
     "text": [
      "Processing Pages: 100%|██████████| 9552/9552 [2:35:25<00:00,  1.02it/s]  \n"
     ]
    }
   ],
   "source": [
    "import logging\n",
    "logging.basicConfig(filename='parse_log.txt', level=logging.ERROR, format='%(asctime)s - %(levelname)s - %(message)s')\n",
    "\n",
    "data = []\n",
    "for num, page in enumerate(tqdm(pages, desc=\"Processing Pages\")):\n",
    "    try:\n",
    "        res = parse_page(page)\n",
    "        data.append(res)\n",
    "        if num % 10 == 0:\n",
    "            df = pd.DataFrame(data)\n",
    "            df['topic'] = 'wellness'\n",
    "            df.to_csv('doctorpiter_news_01.csv', index=False)\n",
    "    except Exception as e:\n",
    "        logging.error(f\"Error processing page {num}: {e}\")\n",
    "        continue\n",
    "        "
   ]
  },
  {
   "cell_type": "code",
   "execution_count": 33,
   "id": "83bb8657-73ce-459f-bad6-36c6f78d5201",
   "metadata": {
    "tags": []
   },
   "outputs": [
    {
     "data": {
      "text/html": [
       "<div>\n",
       "<style scoped>\n",
       "    .dataframe tbody tr th:only-of-type {\n",
       "        vertical-align: middle;\n",
       "    }\n",
       "\n",
       "    .dataframe tbody tr th {\n",
       "        vertical-align: top;\n",
       "    }\n",
       "\n",
       "    .dataframe thead th {\n",
       "        text-align: right;\n",
       "    }\n",
       "</style>\n",
       "<table border=\"1\" class=\"dataframe\">\n",
       "  <thead>\n",
       "    <tr style=\"text-align: right;\">\n",
       "      <th></th>\n",
       "      <th>url</th>\n",
       "      <th>content</th>\n",
       "      <th>topic</th>\n",
       "    </tr>\n",
       "  </thead>\n",
       "  <tbody>\n",
       "    <tr>\n",
       "      <th>0</th>\n",
       "      <td>https://doctorpiter.ru//zdorove/tak-est-nelzya...</td>\n",
       "      <td>Больше блюд — не значит лучше, говорят диетоло...</td>\n",
       "      <td>wellness</td>\n",
       "    </tr>\n",
       "    <tr>\n",
       "      <th>1</th>\n",
       "      <td>https://doctorpiter.ru//zdorove/chto-proizoide...</td>\n",
       "      <td>В некоторых семьях оливье до сих пор готовят ц...</td>\n",
       "      <td>wellness</td>\n",
       "    </tr>\n",
       "    <tr>\n",
       "      <th>2</th>\n",
       "      <td>https://doctorpiter.ru//zdorove/endokrinolog-g...</td>\n",
       "      <td>Сахарный диабет зачастую для многих неожиданны...</td>\n",
       "      <td>wellness</td>\n",
       "    </tr>\n",
       "    <tr>\n",
       "      <th>3</th>\n",
       "      <td>https://doctorpiter.ru//zdorove/a-u-vas-est-sv...</td>\n",
       "      <td>Холодец — одно из традиционных блюд русской ку...</td>\n",
       "      <td>wellness</td>\n",
       "    </tr>\n",
       "    <tr>\n",
       "      <th>4</th>\n",
       "      <td>https://doctorpiter.ru//zdorove/ostorozhno-pra...</td>\n",
       "      <td>Не стоит думать, что кишечные инфекции — сугуб...</td>\n",
       "      <td>wellness</td>\n",
       "    </tr>\n",
       "  </tbody>\n",
       "</table>\n",
       "</div>"
      ],
      "text/plain": [
       "                                                 url  \\\n",
       "0  https://doctorpiter.ru//zdorove/tak-est-nelzya...   \n",
       "1  https://doctorpiter.ru//zdorove/chto-proizoide...   \n",
       "2  https://doctorpiter.ru//zdorove/endokrinolog-g...   \n",
       "3  https://doctorpiter.ru//zdorove/a-u-vas-est-sv...   \n",
       "4  https://doctorpiter.ru//zdorove/ostorozhno-pra...   \n",
       "\n",
       "                                             content     topic  \n",
       "0  Больше блюд — не значит лучше, говорят диетоло...  wellness  \n",
       "1  В некоторых семьях оливье до сих пор готовят ц...  wellness  \n",
       "2  Сахарный диабет зачастую для многих неожиданны...  wellness  \n",
       "3  Холодец — одно из традиционных блюд русской ку...  wellness  \n",
       "4  Не стоит думать, что кишечные инфекции — сугуб...  wellness  "
      ]
     },
     "execution_count": 33,
     "metadata": {},
     "output_type": "execute_result"
    }
   ],
   "source": [
    "df = pd.DataFrame(data=data)\n",
    "df['topic'] = 'wellness'\n",
    "df.head()"
   ]
  },
  {
   "cell_type": "code",
   "execution_count": 34,
   "id": "db4547da-7835-4f21-9a6f-3ef59db495f2",
   "metadata": {},
   "outputs": [
    {
     "name": "stdout",
     "output_type": "stream",
     "text": [
      "<class 'pandas.core.frame.DataFrame'>\n",
      "RangeIndex: 9552 entries, 0 to 9551\n",
      "Data columns (total 3 columns):\n",
      " #   Column   Non-Null Count  Dtype \n",
      "---  ------   --------------  ----- \n",
      " 0   url      9552 non-null   object\n",
      " 1   content  9552 non-null   object\n",
      " 2   topic    9552 non-null   object\n",
      "dtypes: object(3)\n",
      "memory usage: 224.0+ KB\n"
     ]
    }
   ],
   "source": [
    "df.info()"
   ]
  },
  {
   "cell_type": "code",
   "execution_count": 37,
   "id": "ae4b4283-7013-42e7-be7d-c440dd835340",
   "metadata": {},
   "outputs": [
    {
     "data": {
      "text/plain": [
       "1"
      ]
     },
     "execution_count": 37,
     "metadata": {},
     "output_type": "execute_result"
    }
   ],
   "source": [
    "df.duplicated(subset='url').sum()"
   ]
  },
  {
   "cell_type": "code",
   "execution_count": 38,
   "id": "e710fbcb-92f8-4c38-b000-e30f026b01d8",
   "metadata": {},
   "outputs": [
    {
     "name": "stdout",
     "output_type": "stream",
     "text": [
      "<class 'pandas.core.frame.DataFrame'>\n",
      "RangeIndex: 9551 entries, 0 to 9550\n",
      "Data columns (total 3 columns):\n",
      " #   Column   Non-Null Count  Dtype \n",
      "---  ------   --------------  ----- \n",
      " 0   url      9551 non-null   object\n",
      " 1   content  9551 non-null   object\n",
      " 2   topic    9551 non-null   object\n",
      "dtypes: object(3)\n",
      "memory usage: 224.0+ KB\n"
     ]
    }
   ],
   "source": [
    "df = df.drop_duplicates(subset='url').reset_index(drop=True)\n",
    "df.info()"
   ]
  },
  {
   "cell_type": "code",
   "execution_count": 39,
   "id": "639ee075-7edd-4b54-ada0-56cee197fb93",
   "metadata": {},
   "outputs": [],
   "source": [
    "df.to_csv('doctorpiter_wellness_full.csv', index=False)"
   ]
  }
 ],
 "metadata": {
  "kernelspec": {
   "display_name": "Python 3 (ipykernel)",
   "language": "python",
   "name": "python3"
  },
  "language_info": {
   "codemirror_mode": {
    "name": "ipython",
    "version": 3
   },
   "file_extension": ".py",
   "mimetype": "text/x-python",
   "name": "python",
   "nbconvert_exporter": "python",
   "pygments_lexer": "ipython3",
   "version": "3.9.13"
  }
 },
 "nbformat": 4,
 "nbformat_minor": 5
}
