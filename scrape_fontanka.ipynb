{
 "cells": [
  {
   "cell_type": "markdown",
   "metadata": {},
   "source": [
    "# Fontanka.ru parser"
   ]
  },
  {
   "cell_type": "code",
   "execution_count": null,
   "metadata": {
    "id": "MBMTpgZNUKwJ"
   },
   "outputs": [],
   "source": [
    "%%capture\n",
    "!pip install selenium"
   ]
  },
  {
   "cell_type": "code",
   "execution_count": null,
   "metadata": {
    "colab": {
     "base_uri": "https://localhost:8080/"
    },
    "id": "ox69mwGDV067",
    "outputId": "eae3b49e-8302-4dec-9b72-44644f446415"
   },
   "outputs": [],
   "source": [
    "from google.colab import drive\n",
    "drive.mount('/content/gdrive')"
   ]
  },
  {
   "cell_type": "code",
   "execution_count": null,
   "metadata": {
    "id": "zYtkZQhHUg7J"
   },
   "outputs": [],
   "source": [
    "import re\n",
    "import os\n",
    "import time\n",
    "import datetime\n",
    "import pandas as pd\n",
    "from tqdm import tqdm\n",
    "from bs4 import BeautifulSoup\n",
    "from selenium import webdriver\n",
    "import requests\n",
    "from selenium.webdriver.common.by import By\n",
    "from dataclasses import dataclass"
   ]
  },
  {
   "cell_type": "code",
   "execution_count": null,
   "metadata": {},
   "outputs": [],
   "source": [
    "# set webdriver params\n",
    "chrome_options = webdriver.ChromeOptions()\n",
    "chrome_options.add_argument('headless')\n",
    "chrome_options.add_argument('no-sandbox')\n",
    "chrome_options.add_argument('disable-dev-shm-usage')\n",
    "driver = webdriver.Chrome(options=chrome_options)"
   ]
  },
  {
   "cell_type": "code",
   "execution_count": null,
   "metadata": {
    "id": "nahFFEqkLO8v"
   },
   "outputs": [],
   "source": [
    "TOPICS = ['Общество', 'Туризм', 'Строительство']\n",
    "\n",
    "def get_page(p) -> list:\n",
    "    \"\"\"A function to retrieve data from a web page.\"\"\"\n",
    "\n",
    "    url = f'https://www.fontanka.ru/{p}/all.html'\n",
    "    #response = requests.get(url, headers={'User-Agent': UserAgent().chrome})\n",
    "    driver.get(url)\n",
    "    time.sleep(1)\n",
    "    html = driver.page_source\n",
    "    soup = BeautifulSoup(html, \"html.parser\")\n",
    "    #tree = BeautifulSoup(response.content, 'html.parser')\n",
    "    news = soup.find_all('li', {'class': 'IXaf5'})\n",
    "    info = []\n",
    "\n",
    "    for item in news:\n",
    "        topic = item.find('a').get('title')\n",
    "\n",
    "        if topic in TOPICS:\n",
    "            link = item.find('div', class_=\"IXagh\").find('a', class_=\"IXdb\").get('href')\n",
    "\n",
    "            if 'longreads' in link \\\n",
    "                or 'doctorpiter' in link \\\n",
    "                or 'https' in link \\\n",
    "                or 'vk' in link \\\n",
    "                or 'amp' in link:\n",
    "                continue\n",
    "                \n",
    "            urli = 'https://www.fontanka.ru' + link\n",
    "            response_inner = requests.get(urli)\n",
    "            tree_inner = BeautifulSoup(response_inner.content, 'html.parser')         \n",
    "            content = tree_inner.find_all('div', {'class': 'CNah KTap KTah'})\n",
    "            full_text = \" \".join([block.text for block in content])\n",
    "\n",
    "            row = {\n",
    "                'url': urli,\n",
    "                'content': full_text,\n",
    "                'topic': topic\n",
    "            }\n",
    "\n",
    "\n",
    "            info.append(row)\n",
    "\n",
    "    return info"
   ]
  },
  {
   "cell_type": "code",
   "execution_count": null,
   "metadata": {
    "colab": {
     "base_uri": "https://localhost:8080/",
     "height": 391
    },
    "id": "K7cvzUfvMVV_",
    "outputId": "cf06bd75-bccd-4f4b-c7c6-495013563303",
    "tags": []
   },
   "outputs": [],
   "source": [
    "\"\"\"\n",
    "Passing through links in format:\n",
    "'https://www.fontanka.ru/{p}/all.html'\n",
    "\"\"\"\n",
    "\n",
    "data = []\n",
    "for yy in range(2023, 2020, -1):\n",
    "    for mm in range(12, 0, -1):\n",
    "        for dd in range(31, 0, -1):\n",
    "            p = f'{yy:04}/{mm:02}/{dd:02}'\n",
    "            try:\n",
    "                data.extend(get_page(p))\n",
    "                # Сохранение данных каждые 10 итераций\n",
    "                if len(data) % 10 == 0:\n",
    "                    df = pd.DataFrame(data)\n",
    "                    df.to_csv('fontanka_news_test.csv', index=False)\n",
    "\n",
    "            except Exception as e:\n",
    "                print(f\"Failed to get data for: {p}. Exception: {e}\")\n",
    "                pass"
   ]
  },
  {
   "cell_type": "code",
   "execution_count": null,
   "metadata": {
    "id": "ujYXf8Ugf4AP"
   },
   "outputs": [],
   "source": [
    "df = pd.DataFrame(data)\n",
    "df.to_csv('fontanka_news.csv', index=False)"
   ]
  },
  {
   "cell_type": "code",
   "execution_count": null,
   "metadata": {},
   "outputs": [],
   "source": [
    "df = df.dropna()\n",
    "df.info()"
   ]
  },
  {
   "cell_type": "code",
   "execution_count": null,
   "metadata": {},
   "outputs": [],
   "source": [
    "df.topic.value_counts()"
   ]
  }
 ],
 "metadata": {
  "colab": {
   "provenance": []
  },
  "kernelspec": {
   "display_name": "Python 3 (ipykernel)",
   "language": "python",
   "name": "python3"
  },
  "language_info": {
   "codemirror_mode": {
    "name": "ipython",
    "version": 3
   },
   "file_extension": ".py",
   "mimetype": "text/x-python",
   "name": "python",
   "nbconvert_exporter": "python",
   "pygments_lexer": "ipython3",
   "version": "3.9.13"
  }
 },
 "nbformat": 4,
 "nbformat_minor": 4
}
