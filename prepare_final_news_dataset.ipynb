{
 "cells": [
  {
   "cell_type": "markdown",
   "id": "13749991-267e-4c58-9d7a-2cd27df2bb1d",
   "metadata": {},
   "source": [
    "# Make a final dataset"
   ]
  },
  {
   "cell_type": "code",
   "execution_count": 1,
   "id": "1fea82fc-5dd8-402c-934a-5b3409580ab1",
   "metadata": {},
   "outputs": [],
   "source": [
    "import re\n",
    "import time\n",
    "import datetime\n",
    "import pandas as pd\n",
    "from tqdm import tqdm"
   ]
  },
  {
   "cell_type": "code",
   "execution_count": 2,
   "id": "2ae7c282-f6b9-4500-833d-d6509d7eebd4",
   "metadata": {},
   "outputs": [
    {
     "data": {
      "text/plain": [
       "0"
      ]
     },
     "execution_count": 2,
     "metadata": {},
     "output_type": "execute_result"
    }
   ],
   "source": [
    "docpiter = pd.read_csv('doctorpiter_wellness_full.csv')\n",
    "docpiter.duplicated().sum()"
   ]
  },
  {
   "cell_type": "code",
   "execution_count": 3,
   "id": "a0580e3b-9422-4bca-b914-d82053f3f456",
   "metadata": {},
   "outputs": [
    {
     "data": {
      "text/plain": [
       "url         0\n",
       "content    27\n",
       "topic       0\n",
       "dtype: int64"
      ]
     },
     "execution_count": 3,
     "metadata": {},
     "output_type": "execute_result"
    }
   ],
   "source": [
    "docpiter.isna().sum()"
   ]
  },
  {
   "cell_type": "code",
   "execution_count": 4,
   "id": "82baa873-a615-475e-ad98-2d43db41fbb9",
   "metadata": {},
   "outputs": [
    {
     "data": {
      "text/plain": [
       "url        0\n",
       "content    0\n",
       "topic      0\n",
       "dtype: int64"
      ]
     },
     "execution_count": 4,
     "metadata": {},
     "output_type": "execute_result"
    }
   ],
   "source": [
    "docpiter = docpiter.dropna()\n",
    "docpiter.isna().sum()"
   ]
  },
  {
   "cell_type": "code",
   "execution_count": 6,
   "id": "ff7bf45e-2fea-4b81-9fec-3f7090b5223f",
   "metadata": {},
   "outputs": [
    {
     "name": "stdout",
     "output_type": "stream",
     "text": [
      "<class 'pandas.core.frame.DataFrame'>\n",
      "Int64Index: 9524 entries, 0 to 9550\n",
      "Data columns (total 2 columns):\n",
      " #   Column   Non-Null Count  Dtype \n",
      "---  ------   --------------  ----- \n",
      " 0   content  9524 non-null   object\n",
      " 1   topic    9524 non-null   object\n",
      "dtypes: object(2)\n",
      "memory usage: 223.2+ KB\n"
     ]
    }
   ],
   "source": [
    "docpiter = docpiter[['content', 'topic']]\n",
    "docpiter.info()"
   ]
  },
  {
   "cell_type": "code",
   "execution_count": 7,
   "id": "03a3c610-c34c-49e5-b8b8-578e6f543492",
   "metadata": {},
   "outputs": [
    {
     "data": {
      "text/html": [
       "<div>\n",
       "<style scoped>\n",
       "    .dataframe tbody tr th:only-of-type {\n",
       "        vertical-align: middle;\n",
       "    }\n",
       "\n",
       "    .dataframe tbody tr th {\n",
       "        vertical-align: top;\n",
       "    }\n",
       "\n",
       "    .dataframe thead th {\n",
       "        text-align: right;\n",
       "    }\n",
       "</style>\n",
       "<table border=\"1\" class=\"dataframe\">\n",
       "  <thead>\n",
       "    <tr style=\"text-align: right;\">\n",
       "      <th></th>\n",
       "      <th>content</th>\n",
       "      <th>topic</th>\n",
       "    </tr>\n",
       "  </thead>\n",
       "  <tbody>\n",
       "    <tr>\n",
       "      <th>0</th>\n",
       "      <td>Больше блюд — не значит лучше, говорят диетоло...</td>\n",
       "      <td>5</td>\n",
       "    </tr>\n",
       "    <tr>\n",
       "      <th>1</th>\n",
       "      <td>В некоторых семьях оливье до сих пор готовят ц...</td>\n",
       "      <td>5</td>\n",
       "    </tr>\n",
       "    <tr>\n",
       "      <th>2</th>\n",
       "      <td>Сахарный диабет зачастую для многих неожиданны...</td>\n",
       "      <td>5</td>\n",
       "    </tr>\n",
       "    <tr>\n",
       "      <th>3</th>\n",
       "      <td>Холодец — одно из традиционных блюд русской ку...</td>\n",
       "      <td>5</td>\n",
       "    </tr>\n",
       "    <tr>\n",
       "      <th>4</th>\n",
       "      <td>Не стоит думать, что кишечные инфекции — сугуб...</td>\n",
       "      <td>5</td>\n",
       "    </tr>\n",
       "  </tbody>\n",
       "</table>\n",
       "</div>"
      ],
      "text/plain": [
       "                                             content  topic\n",
       "0  Больше блюд — не значит лучше, говорят диетоло...      5\n",
       "1  В некоторых семьях оливье до сих пор готовят ц...      5\n",
       "2  Сахарный диабет зачастую для многих неожиданны...      5\n",
       "3  Холодец — одно из традиционных блюд русской ку...      5\n",
       "4  Не стоит думать, что кишечные инфекции — сугуб...      5"
      ]
     },
     "execution_count": 7,
     "metadata": {},
     "output_type": "execute_result"
    }
   ],
   "source": [
    "docpiter['topic'] = docpiter['topic'].replace('wellness', 5)\n",
    "docpiter.head()"
   ]
  },
  {
   "cell_type": "code",
   "execution_count": 8,
   "id": "77ababad-8c61-474c-b272-a79b2f4f6ebd",
   "metadata": {},
   "outputs": [
    {
     "name": "stdout",
     "output_type": "stream",
     "text": [
      "<class 'pandas.core.frame.DataFrame'>\n",
      "RangeIndex: 31851 entries, 0 to 31850\n",
      "Data columns (total 3 columns):\n",
      " #   Column   Non-Null Count  Dtype \n",
      "---  ------   --------------  ----- \n",
      " 0   url      31851 non-null  object\n",
      " 1   content  31851 non-null  object\n",
      " 2   topic    31851 non-null  object\n",
      "dtypes: object(3)\n",
      "memory usage: 746.6+ KB\n"
     ]
    }
   ],
   "source": [
    "all_news = pd.read_csv('all_news.csv')\n",
    "all_news.info()"
   ]
  },
  {
   "cell_type": "code",
   "execution_count": 9,
   "id": "50918a22-f9b9-4e27-a635-7c8992ff262f",
   "metadata": {},
   "outputs": [
    {
     "data": {
      "text/plain": [
       "Силовые структуры     3539\n",
       "Бывший СССР           3539\n",
       "Экономика             3539\n",
       "Забота о себе         3539\n",
       "Общество/Россия       3539\n",
       "Спорт                 3539\n",
       "Туризм/Путешествия    3539\n",
       "Наука и техника       3539\n",
       "Строительство         3539\n",
       "Name: topic, dtype: int64"
      ]
     },
     "execution_count": 9,
     "metadata": {},
     "output_type": "execute_result"
    }
   ],
   "source": [
    "all_news.topic.value_counts()"
   ]
  },
  {
   "cell_type": "code",
   "execution_count": 10,
   "id": "9dc27ce7-b1dc-4b16-aa78-42bd620899be",
   "metadata": {},
   "outputs": [
    {
     "data": {
      "text/plain": [
       "2    3539\n",
       "3    3539\n",
       "1    3539\n",
       "5    3539\n",
       "0    3539\n",
       "4    3539\n",
       "7    3539\n",
       "8    3539\n",
       "6    3539\n",
       "Name: topic, dtype: int64"
      ]
     },
     "execution_count": 10,
     "metadata": {},
     "output_type": "execute_result"
    }
   ],
   "source": [
    "topic_mapping = {\n",
    "    'Силовые структуры': 2,\n",
    "    'Наука и техника': 8,\n",
    "    'Общество/Россия': 0,\n",
    "    'Бывший СССР': 3,\n",
    "    'Туризм/Путешествия': 7,\n",
    "    'Спорт': 4,\n",
    "    'Строительство': 6,\n",
    "    'Экономика': 1,\n",
    "    'Забота о себе': 5,\n",
    "}\n",
    "\n",
    "\n",
    "all_news['topic'] = all_news['topic'].replace(topic_mapping)\n",
    "all_news.topic.value_counts()"
   ]
  },
  {
   "cell_type": "code",
   "execution_count": 12,
   "id": "462d06f9-7778-47a5-8a9e-72727b568562",
   "metadata": {},
   "outputs": [
    {
     "name": "stdout",
     "output_type": "stream",
     "text": [
      "<class 'pandas.core.frame.DataFrame'>\n",
      "RangeIndex: 132961 entries, 0 to 132960\n",
      "Data columns (total 2 columns):\n",
      " #   Column  Non-Null Count   Dtype \n",
      "---  ------  --------------   ----- \n",
      " 0   text    132961 non-null  object\n",
      " 1   topic   132961 non-null  int64 \n",
      "dtypes: int64(1), object(1)\n",
      "memory usage: 2.0+ MB\n"
     ]
    }
   ],
   "source": [
    "lenta = pd.read_csv('lentaru_news.csv')\n",
    "lenta.info()"
   ]
  },
  {
   "cell_type": "code",
   "execution_count": 13,
   "id": "b27c409a-3ea6-4ecd-aea1-4eff7f242334",
   "metadata": {},
   "outputs": [
    {
     "data": {
      "text/plain": [
       "text     0\n",
       "topic    0\n",
       "dtype: int64"
      ]
     },
     "execution_count": 13,
     "metadata": {},
     "output_type": "execute_result"
    }
   ],
   "source": [
    "lenta.isna().sum()"
   ]
  },
  {
   "cell_type": "code",
   "execution_count": 14,
   "id": "4be15079-c688-4e48-b931-f71d7d8145ee",
   "metadata": {},
   "outputs": [
    {
     "data": {
      "text/plain": [
       "0    42686\n",
       "1    22211\n",
       "3    21524\n",
       "4    12545\n",
       "2    11879\n",
       "8    11187\n",
       "7     8437\n",
       "5     2492\n",
       "Name: topic, dtype: int64"
      ]
     },
     "execution_count": 14,
     "metadata": {},
     "output_type": "execute_result"
    }
   ],
   "source": [
    "lenta.topic.value_counts()"
   ]
  },
  {
   "cell_type": "code",
   "execution_count": 15,
   "id": "694ba1b4-b8eb-4735-94af-b88d0c57e37b",
   "metadata": {},
   "outputs": [
    {
     "data": {
      "text/plain": [
       "0    0.321042\n",
       "1    0.167049\n",
       "3    0.161882\n",
       "4    0.094351\n",
       "2    0.089342\n",
       "8    0.084137\n",
       "7    0.063455\n",
       "5    0.018742\n",
       "Name: topic, dtype: float64"
      ]
     },
     "execution_count": 15,
     "metadata": {},
     "output_type": "execute_result"
    }
   ],
   "source": [
    "lenta['topic'].value_counts(normalize=True) "
   ]
  },
  {
   "cell_type": "code",
   "execution_count": 16,
   "id": "7c1011b7-d75b-4271-b26e-fbff03c9b00c",
   "metadata": {},
   "outputs": [],
   "source": [
    "all_news_flt = all_news[(all_news['topic'] == 6) | (all_news['topic'] == 5)]"
   ]
  },
  {
   "cell_type": "code",
   "execution_count": 17,
   "id": "166a66f1-bdb4-4ab4-ba38-664c981b2382",
   "metadata": {},
   "outputs": [
    {
     "data": {
      "text/plain": [
       "5    3539\n",
       "6    3539\n",
       "Name: topic, dtype: int64"
      ]
     },
     "execution_count": 17,
     "metadata": {},
     "output_type": "execute_result"
    }
   ],
   "source": [
    "all_news_flt.topic.value_counts()"
   ]
  },
  {
   "cell_type": "code",
   "execution_count": 20,
   "id": "19258e5c-0c1d-4643-8a51-19e0852b5456",
   "metadata": {},
   "outputs": [],
   "source": [
    "lenta = lenta.rename(columns={'text': 'content'})"
   ]
  },
  {
   "cell_type": "code",
   "execution_count": 23,
   "id": "9f8d5e63-2a51-4c73-8182-a964e1a3cf03",
   "metadata": {},
   "outputs": [
    {
     "data": {
      "text/html": [
       "<div>\n",
       "<style scoped>\n",
       "    .dataframe tbody tr th:only-of-type {\n",
       "        vertical-align: middle;\n",
       "    }\n",
       "\n",
       "    .dataframe tbody tr th {\n",
       "        vertical-align: top;\n",
       "    }\n",
       "\n",
       "    .dataframe thead th {\n",
       "        text-align: right;\n",
       "    }\n",
       "</style>\n",
       "<table border=\"1\" class=\"dataframe\">\n",
       "  <thead>\n",
       "    <tr style=\"text-align: right;\">\n",
       "      <th></th>\n",
       "      <th>content</th>\n",
       "      <th>topic</th>\n",
       "    </tr>\n",
       "  </thead>\n",
       "  <tbody>\n",
       "    <tr>\n",
       "      <th>17</th>\n",
       "      <td>В праздничные дни пары чаще ссорятся из-за ден...</td>\n",
       "      <td>5</td>\n",
       "    </tr>\n",
       "    <tr>\n",
       "      <th>20</th>\n",
       "      <td>Вирус папилломы человека (ВПЧ) — один из самых...</td>\n",
       "      <td>5</td>\n",
       "    </tr>\n",
       "    <tr>\n",
       "      <th>24</th>\n",
       "      <td>Психолог Ли Хокер-Лесейн рассказал, как распоз...</td>\n",
       "      <td>5</td>\n",
       "    </tr>\n",
       "    <tr>\n",
       "      <th>29</th>\n",
       "      <td>Во время новогодних праздников большинство люд...</td>\n",
       "      <td>5</td>\n",
       "    </tr>\n",
       "    <tr>\n",
       "      <th>42</th>\n",
       "      <td>Лайф-коуч и эксперт по отношениям Мишель Элман...</td>\n",
       "      <td>5</td>\n",
       "    </tr>\n",
       "    <tr>\n",
       "      <th>...</th>\n",
       "      <td>...</td>\n",
       "      <td>...</td>\n",
       "    </tr>\n",
       "    <tr>\n",
       "      <th>31846</th>\n",
       "      <td>Особенность мышечной ткани в том, что она може...</td>\n",
       "      <td>5</td>\n",
       "    </tr>\n",
       "    <tr>\n",
       "      <th>31847</th>\n",
       "      <td>Этой зимой, кажется, болеют все. Если предыдущ...</td>\n",
       "      <td>5</td>\n",
       "    </tr>\n",
       "    <tr>\n",
       "      <th>31848</th>\n",
       "      <td>Контролировать уровень сахара в крови необходи...</td>\n",
       "      <td>5</td>\n",
       "    </tr>\n",
       "    <tr>\n",
       "      <th>31849</th>\n",
       "      <td>Более 90% всех случаев рака можно вылечить, ес...</td>\n",
       "      <td>5</td>\n",
       "    </tr>\n",
       "    <tr>\n",
       "      <th>31850</th>\n",
       "      <td>Зачем организму сольМеньше солить пищу — это р...</td>\n",
       "      <td>5</td>\n",
       "    </tr>\n",
       "  </tbody>\n",
       "</table>\n",
       "<p>7078 rows × 2 columns</p>\n",
       "</div>"
      ],
      "text/plain": [
       "                                                 content  topic\n",
       "17     В праздничные дни пары чаще ссорятся из-за ден...      5\n",
       "20     Вирус папилломы человека (ВПЧ) — один из самых...      5\n",
       "24     Психолог Ли Хокер-Лесейн рассказал, как распоз...      5\n",
       "29     Во время новогодних праздников большинство люд...      5\n",
       "42     Лайф-коуч и эксперт по отношениям Мишель Элман...      5\n",
       "...                                                  ...    ...\n",
       "31846  Особенность мышечной ткани в том, что она може...      5\n",
       "31847  Этой зимой, кажется, болеют все. Если предыдущ...      5\n",
       "31848  Контролировать уровень сахара в крови необходи...      5\n",
       "31849  Более 90% всех случаев рака можно вылечить, ес...      5\n",
       "31850  Зачем организму сольМеньше солить пищу — это р...      5\n",
       "\n",
       "[7078 rows x 2 columns]"
      ]
     },
     "execution_count": 23,
     "metadata": {},
     "output_type": "execute_result"
    }
   ],
   "source": [
    "all_news_flt = all_news_flt.drop(columns='url')\n",
    "all_news_flt"
   ]
  },
  {
   "cell_type": "code",
   "execution_count": 24,
   "id": "479e8b0c-9d1f-40dd-954b-bdcd24869331",
   "metadata": {},
   "outputs": [
    {
     "name": "stdout",
     "output_type": "stream",
     "text": [
      "<class 'pandas.core.frame.DataFrame'>\n",
      "RangeIndex: 140039 entries, 0 to 140038\n",
      "Data columns (total 2 columns):\n",
      " #   Column   Non-Null Count   Dtype \n",
      "---  ------   --------------   ----- \n",
      " 0   content  140039 non-null  object\n",
      " 1   topic    140039 non-null  int64 \n",
      "dtypes: int64(1), object(1)\n",
      "memory usage: 2.1+ MB\n"
     ]
    }
   ],
   "source": [
    "combined = pd.concat([lenta, all_news_flt], axis=0, ignore_index=True)\n",
    "combined.info()"
   ]
  },
  {
   "cell_type": "code",
   "execution_count": 25,
   "id": "ce467ec4-2e2a-4ab9-be87-7346981a8142",
   "metadata": {},
   "outputs": [
    {
     "data": {
      "text/html": [
       "<div>\n",
       "<style scoped>\n",
       "    .dataframe tbody tr th:only-of-type {\n",
       "        vertical-align: middle;\n",
       "    }\n",
       "\n",
       "    .dataframe tbody tr th {\n",
       "        vertical-align: top;\n",
       "    }\n",
       "\n",
       "    .dataframe thead th {\n",
       "        text-align: right;\n",
       "    }\n",
       "</style>\n",
       "<table border=\"1\" class=\"dataframe\">\n",
       "  <thead>\n",
       "    <tr style=\"text-align: right;\">\n",
       "      <th></th>\n",
       "      <th>content</th>\n",
       "      <th>topic</th>\n",
       "    </tr>\n",
       "  </thead>\n",
       "  <tbody>\n",
       "    <tr>\n",
       "      <th>0</th>\n",
       "      <td>Лика Миргородская Пожар в сочинском лесу близ ...</td>\n",
       "      <td>0</td>\n",
       "    </tr>\n",
       "    <tr>\n",
       "      <th>1</th>\n",
       "      <td>Фото: Telegram-канал BAZA Лика Миргородская Те...</td>\n",
       "      <td>0</td>\n",
       "    </tr>\n",
       "    <tr>\n",
       "      <th>2</th>\n",
       "      <td>Владимир Зеленский Фото: Valentyn Ogirenko / R...</td>\n",
       "      <td>3</td>\n",
       "    </tr>\n",
       "    <tr>\n",
       "      <th>3</th>\n",
       "      <td>Фото: Владимир Песня / РИА Новости Илья Соболе...</td>\n",
       "      <td>0</td>\n",
       "    </tr>\n",
       "    <tr>\n",
       "      <th>4</th>\n",
       "      <td>Фото: Павел Бедняков / РИА Новости Милана Мика...</td>\n",
       "      <td>0</td>\n",
       "    </tr>\n",
       "  </tbody>\n",
       "</table>\n",
       "</div>"
      ],
      "text/plain": [
       "                                             content  topic\n",
       "0  Лика Миргородская Пожар в сочинском лесу близ ...      0\n",
       "1  Фото: Telegram-канал BAZA Лика Миргородская Те...      0\n",
       "2  Владимир Зеленский Фото: Valentyn Ogirenko / R...      3\n",
       "3  Фото: Владимир Песня / РИА Новости Илья Соболе...      0\n",
       "4  Фото: Павел Бедняков / РИА Новости Милана Мика...      0"
      ]
     },
     "execution_count": 25,
     "metadata": {},
     "output_type": "execute_result"
    }
   ],
   "source": [
    "combined.head()"
   ]
  },
  {
   "cell_type": "code",
   "execution_count": 26,
   "id": "1995c146-e4c5-4bab-b5f2-4259bcaf7fa7",
   "metadata": {},
   "outputs": [
    {
     "data": {
      "text/plain": [
       "0    0.304815\n",
       "1    0.158606\n",
       "3    0.153700\n",
       "4    0.089582\n",
       "2    0.084826\n",
       "8    0.079885\n",
       "7    0.060248\n",
       "5    0.043067\n",
       "6    0.025272\n",
       "Name: topic, dtype: float64"
      ]
     },
     "execution_count": 26,
     "metadata": {},
     "output_type": "execute_result"
    }
   ],
   "source": [
    "combined.topic.value_counts(normalize=True) "
   ]
  },
  {
   "cell_type": "code",
   "execution_count": 27,
   "id": "46c6e7b7-ec52-495a-aa17-8389d0384f90",
   "metadata": {},
   "outputs": [],
   "source": [
    "combined.to_csv('full_news.csv', index=False)"
   ]
  },
  {
   "cell_type": "markdown",
   "id": "daaae716-850f-4dd6-97f4-164f203672ff",
   "metadata": {},
   "source": [
    "# Новости из фонтанки.ру + doctorpiter.ru"
   ]
  },
  {
   "cell_type": "code",
   "execution_count": 121,
   "id": "ae6c0813-5e52-4ea8-b487-08c296a8b3fb",
   "metadata": {},
   "outputs": [],
   "source": [
    "df_1 = pd.read_csv('fontanka_news_final_find_all.csv')\n",
    "df_2 = pd.read_csv('fontanka_news.csv')\n",
    "df_3 = pd.read_csv('fontanka_news_18_19.csv')\n",
    "#df_4 = pd.read_csv('D:/My_courses/News_Classification_Project/data/news_final_balanced.csv')\n",
    "df_5 = pd.read_csv('news_fontanka.csv')\n",
    "df_6 = pd.read_csv('doctorpiter_news_01.csv')\n",
    "df_7 = pd.read_csv('news_fontanka_6_01.csv')"
   ]
  },
  {
   "cell_type": "code",
   "execution_count": 32,
   "id": "b613582c-0a2d-45ef-b41a-4bcd8a15b641",
   "metadata": {},
   "outputs": [
    {
     "data": {
      "text/plain": [
       "Строительство    2504\n",
       "Спорт            2476\n",
       "Туризм            429\n",
       "Name: topic, dtype: int64"
      ]
     },
     "execution_count": 32,
     "metadata": {},
     "output_type": "execute_result"
    }
   ],
   "source": [
    "df_1.topic.value_counts()"
   ]
  },
  {
   "cell_type": "code",
   "execution_count": 33,
   "id": "b469fd8b-bec2-41f9-9665-3b50d72af8e2",
   "metadata": {},
   "outputs": [
    {
     "data": {
      "text/plain": [
       "Спорт            24536\n",
       "Строительство     3316\n",
       "Туризм            2578\n",
       "Name: topic, dtype: int64"
      ]
     },
     "execution_count": 33,
     "metadata": {},
     "output_type": "execute_result"
    }
   ],
   "source": [
    "df_2.topic.value_counts()"
   ]
  },
  {
   "cell_type": "code",
   "execution_count": 34,
   "id": "03127a0a-55fc-4dc7-a0fb-fc1615d0b29b",
   "metadata": {},
   "outputs": [
    {
     "data": {
      "text/plain": [
       "Строительство    305\n",
       "Туризм           245\n",
       "Name: topic, dtype: int64"
      ]
     },
     "execution_count": 34,
     "metadata": {},
     "output_type": "execute_result"
    }
   ],
   "source": [
    "df_3.topic.value_counts()"
   ]
  },
  {
   "cell_type": "code",
   "execution_count": 35,
   "id": "4973c813-2c22-46db-81f9-a28ef6b10cb2",
   "metadata": {},
   "outputs": [
    {
     "data": {
      "text/plain": [
       "politics          4690\n",
       "world             4690\n",
       "economy           4690\n",
       "society           4690\n",
       "incidents         4690\n",
       "science           4690\n",
       "culture           4690\n",
       "religion          4690\n",
       "defense_safety    4690\n",
       "Name: topic, dtype: int64"
      ]
     },
     "execution_count": 35,
     "metadata": {},
     "output_type": "execute_result"
    }
   ],
   "source": [
    "df_4.topic.value_counts()"
   ]
  },
  {
   "cell_type": "code",
   "execution_count": 36,
   "id": "c55e1c7f-29b2-46e0-91af-b5f5b63d7900",
   "metadata": {},
   "outputs": [
    {
     "data": {
      "text/plain": [
       "Происшествия     7866\n",
       "Общество         7322\n",
       "Строительство    1100\n",
       "Спорт             832\n",
       "Туризм            160\n",
       "Name: topic, dtype: int64"
      ]
     },
     "execution_count": 36,
     "metadata": {},
     "output_type": "execute_result"
    }
   ],
   "source": [
    "df_5.topic.value_counts()"
   ]
  },
  {
   "cell_type": "code",
   "execution_count": 40,
   "id": "5d6ad88d-2196-4c5a-9654-505c5d4fad34",
   "metadata": {},
   "outputs": [
    {
     "data": {
      "text/plain": [
       "wellness    9551\n",
       "Name: topic, dtype: int64"
      ]
     },
     "execution_count": 40,
     "metadata": {},
     "output_type": "execute_result"
    }
   ],
   "source": [
    "df_6.topic.value_counts()"
   ]
  },
  {
   "cell_type": "markdown",
   "id": "ee050c3d-2395-4d3a-9b71-26654307a0fa",
   "metadata": {},
   "source": [
    "Берем только новости из фонтанки.ру"
   ]
  },
  {
   "cell_type": "code",
   "execution_count": 122,
   "id": "a44c9965-a9e9-4df2-ac42-937e484651d7",
   "metadata": {},
   "outputs": [
    {
     "name": "stdout",
     "output_type": "stream",
     "text": [
      "<class 'pandas.core.frame.DataFrame'>\n",
      "RangeIndex: 55156 entries, 0 to 55155\n",
      "Data columns (total 3 columns):\n",
      " #   Column   Non-Null Count  Dtype \n",
      "---  ------   --------------  ----- \n",
      " 0   url      55156 non-null  object\n",
      " 1   content  55110 non-null  object\n",
      " 2   topic    55156 non-null  object\n",
      "dtypes: object(3)\n",
      "memory usage: 1.3+ MB\n"
     ]
    }
   ],
   "source": [
    "comb_fontanka = pd.concat([df_1, df_2, df_3, df_5, df_6, df_7], axis=0, ignore_index=True)\n",
    "comb_fontanka = comb_fontanka.drop_duplicates(subset='url').reset_index(drop=True)\n",
    "comb_fontanka.info()"
   ]
  },
  {
   "cell_type": "code",
   "execution_count": 123,
   "id": "ad285aa8-f974-441c-bbc3-c3e947d4adb6",
   "metadata": {},
   "outputs": [
    {
     "name": "stdout",
     "output_type": "stream",
     "text": [
      "<class 'pandas.core.frame.DataFrame'>\n",
      "Int64Index: 55110 entries, 0 to 55155\n",
      "Data columns (total 3 columns):\n",
      " #   Column   Non-Null Count  Dtype \n",
      "---  ------   --------------  ----- \n",
      " 0   url      55110 non-null  object\n",
      " 1   content  55110 non-null  object\n",
      " 2   topic    55110 non-null  object\n",
      "dtypes: object(3)\n",
      "memory usage: 1.7+ MB\n"
     ]
    }
   ],
   "source": [
    "comb_fontanka = comb_fontanka.dropna()\n",
    "comb_fontanka.info()"
   ]
  },
  {
   "cell_type": "code",
   "execution_count": 124,
   "id": "5dcefcba-d9c3-44d5-8474-9a9ce6728c24",
   "metadata": {},
   "outputs": [
    {
     "data": {
      "text/plain": [
       "Спорт            24321\n",
       "wellness          9523\n",
       "Происшествия      7758\n",
       "Общество          7228\n",
       "Строительство     3660\n",
       "Туризм            2620\n",
       "Name: topic, dtype: int64"
      ]
     },
     "execution_count": 124,
     "metadata": {},
     "output_type": "execute_result"
    }
   ],
   "source": [
    "comb_fontanka.topic.value_counts()"
   ]
  },
  {
   "cell_type": "markdown",
   "id": "f8b040a3-8d77-479a-90b5-f94e044f2bdd",
   "metadata": {},
   "source": [
    "Сокращаем кол-во новостей по теме спорт"
   ]
  },
  {
   "cell_type": "code",
   "execution_count": 125,
   "id": "b8273106-afdb-4d21-b079-9eb02fea3936",
   "metadata": {},
   "outputs": [
    {
     "data": {
      "text/plain": [
       "wellness         9523\n",
       "Общество         7228\n",
       "Спорт            5000\n",
       "Строительство    3660\n",
       "Туризм           2620\n",
       "Name: topic, dtype: int64"
      ]
     },
     "execution_count": 125,
     "metadata": {},
     "output_type": "execute_result"
    }
   ],
   "source": [
    "rows_to_drop = comb_fontanka.query('topic == \"Спорт\"').index\n",
    "rows_to_drop_2 = comb_fontanka.query('topic == \"Происшествия\"').index\n",
    "\n",
    "# Удаление 19321 случайных строк из выборки спорта\n",
    "rows_to_drop = rows_to_drop[:19321] \n",
    "\n",
    "# Создание нового DataFrame без выбранных строк\n",
    "comb_fontanka = comb_fontanka.drop(rows_to_drop)\n",
    "comb_fontanka = comb_fontanka.drop(rows_to_drop_2)\n",
    "comb_fontanka.topic.value_counts()"
   ]
  },
  {
   "cell_type": "code",
   "execution_count": 126,
   "id": "80433713-11b2-46ac-85de-a07e4f6a6ccd",
   "metadata": {},
   "outputs": [
    {
     "name": "stdout",
     "output_type": "stream",
     "text": [
      "<class 'pandas.core.frame.DataFrame'>\n",
      "Int64Index: 28031 entries, 1 to 55155\n",
      "Data columns (total 2 columns):\n",
      " #   Column   Non-Null Count  Dtype \n",
      "---  ------   --------------  ----- \n",
      " 0   content  28031 non-null  object\n",
      " 1   topic    28031 non-null  object\n",
      "dtypes: object(2)\n",
      "memory usage: 657.0+ KB\n"
     ]
    }
   ],
   "source": [
    "comb_fontanka = comb_fontanka[['content', 'topic']]\n",
    "comb_fontanka.info()"
   ]
  },
  {
   "cell_type": "code",
   "execution_count": 127,
   "id": "2481c801-443f-402f-baaa-ccb2f22503ec",
   "metadata": {},
   "outputs": [
    {
     "data": {
      "text/plain": [
       "5    9523\n",
       "0    7228\n",
       "4    5000\n",
       "6    3660\n",
       "7    2620\n",
       "Name: topic, dtype: int64"
      ]
     },
     "execution_count": 127,
     "metadata": {},
     "output_type": "execute_result"
    }
   ],
   "source": [
    "topic_mapping = {\n",
    "    'Силовые структуры': 2,\n",
    "    'Наука и техника': 8,\n",
    "    'Общество/Россия': 0,\n",
    "    'Бывший СССР': 3,\n",
    "    'Туризм/Путешествия': 7,\n",
    "    'Спорт': 4,\n",
    "    'Строительство': 6,\n",
    "    'Экономика': 1,\n",
    "    'Забота о себе': 5,\n",
    "    'wellness': 5,\n",
    "    'Общество': 0,\n",
    "    'Туризм': 7\n",
    "}\n",
    "\n",
    "\n",
    "comb_fontanka['topic'] = comb_fontanka['topic'].replace(topic_mapping)\n",
    "comb_fontanka.topic.value_counts()"
   ]
  },
  {
   "cell_type": "markdown",
   "id": "c7369186-3df6-42a5-a41d-7defc1daf558",
   "metadata": {},
   "source": [
    "# Объединяеем новости из Ленты и Фонтанки и ДокторПитер"
   ]
  },
  {
   "cell_type": "code",
   "execution_count": 128,
   "id": "0ce43c11-09a4-43a4-af0d-1888631b266a",
   "metadata": {
    "tags": []
   },
   "outputs": [
    {
     "name": "stdout",
     "output_type": "stream",
     "text": [
      "<class 'pandas.core.frame.DataFrame'>\n",
      "RangeIndex: 160990 entries, 0 to 160989\n",
      "Data columns (total 2 columns):\n",
      " #   Column   Non-Null Count   Dtype \n",
      "---  ------   --------------   ----- \n",
      " 0   content  160990 non-null  object\n",
      " 1   topic    160990 non-null  int64 \n",
      "dtypes: int64(1), object(1)\n",
      "memory usage: 2.5+ MB\n"
     ]
    }
   ],
   "source": [
    "comb = pd.concat([lenta, comb_fontanka], axis=0, ignore_index=True)\n",
    "comb = comb.drop_duplicates().reset_index(drop=True)\n",
    "comb.info()"
   ]
  },
  {
   "cell_type": "code",
   "execution_count": 62,
   "id": "76d70f7f-0b18-4bf4-82b5-429ff28ee4bb",
   "metadata": {},
   "outputs": [
    {
     "data": {
      "text/plain": [
       "0    0.310044\n",
       "1    0.137965\n",
       "3    0.133698\n",
       "4    0.108976\n",
       "5    0.074626\n",
       "2    0.073787\n",
       "8    0.069489\n",
       "7    0.068681\n",
       "6    0.022734\n",
       "Name: topic, dtype: float64"
      ]
     },
     "execution_count": 62,
     "metadata": {},
     "output_type": "execute_result"
    }
   ],
   "source": [
    "comb.topic.value_counts(normalize=True)"
   ]
  },
  {
   "cell_type": "code",
   "execution_count": 63,
   "id": "e16c68c3-c7e3-4989-9449-64a93a108a8a",
   "metadata": {},
   "outputs": [
    {
     "data": {
      "text/plain": [
       "0    49914\n",
       "1    22211\n",
       "3    21524\n",
       "4    17544\n",
       "5    12014\n",
       "2    11879\n",
       "8    11187\n",
       "7    11057\n",
       "6     3660\n",
       "Name: topic, dtype: int64"
      ]
     },
     "execution_count": 63,
     "metadata": {},
     "output_type": "execute_result"
    }
   ],
   "source": [
    "comb.topic.value_counts()"
   ]
  },
  {
   "cell_type": "code",
   "execution_count": 64,
   "id": "48f49c5a-84c0-45ce-8bd4-95e09669e979",
   "metadata": {},
   "outputs": [],
   "source": [
    "comb.to_csv('full_news_2.csv', index=False)"
   ]
  },
  {
   "cell_type": "markdown",
   "id": "ae702692-7fd2-4d93-aae0-606257d50c38",
   "metadata": {},
   "source": [
    "С full_news.csv + transformers rubert tiny удалось получить 0.92 на public. "
   ]
  },
  {
   "cell_type": "markdown",
   "id": "82fec43e-4985-4b7d-8039-6570047807d0",
   "metadata": {},
   "source": [
    "## Новости с ria (туризм + наука и техника)"
   ]
  },
  {
   "cell_type": "code",
   "execution_count": 76,
   "id": "0775b58c-4354-46ea-8080-d95245a6f7e2",
   "metadata": {
    "tags": []
   },
   "outputs": [
    {
     "data": {
      "text/plain": [
       "politics          4690\n",
       "world             4690\n",
       "economy           4690\n",
       "society           4690\n",
       "incidents         4690\n",
       "science           4690\n",
       "culture           4690\n",
       "religion          4690\n",
       "defense_safety    4690\n",
       "Name: topic, dtype: int64"
      ]
     },
     "execution_count": 76,
     "metadata": {},
     "output_type": "execute_result"
    }
   ],
   "source": [
    "ria_news = pd.read_csv('D:/My_courses/News_Classification_Project/data/news_final_balanced.csv')\n",
    "ria_news.topic.value_counts()"
   ]
  },
  {
   "cell_type": "code",
   "execution_count": 77,
   "id": "504b24df-4ff7-44e5-a688-3262067ef6e6",
   "metadata": {},
   "outputs": [
    {
     "data": {
      "text/plain": [
       "tourism    804\n",
       "Name: topic, dtype: int64"
      ]
     },
     "execution_count": 77,
     "metadata": {},
     "output_type": "execute_result"
    }
   ],
   "source": [
    "ria_tourism = pd.read_csv('ria_news_tourism.csv')\n",
    "ria_tourism.topic.value_counts()"
   ]
  },
  {
   "cell_type": "code",
   "execution_count": 78,
   "id": "f13acbdf-4cc1-4aea-9332-a063291ca9b8",
   "metadata": {},
   "outputs": [
    {
     "data": {
      "text/plain": [
       "8    4690\n",
       "Name: topic, dtype: int64"
      ]
     },
     "execution_count": 78,
     "metadata": {},
     "output_type": "execute_result"
    }
   ],
   "source": [
    "ria_science = ria_news[ria_news['topic']=='science']\n",
    "ria_science = ria_science[['content', 'topic']]\n",
    "ria_science['topic'] = ria_science['topic'].replace('science', 8)\n",
    "ria_science.topic.value_counts()"
   ]
  },
  {
   "cell_type": "code",
   "execution_count": 79,
   "id": "eed5baba-2a69-45fe-b958-e9f6f368ec2b",
   "metadata": {},
   "outputs": [
    {
     "data": {
      "text/html": [
       "<div>\n",
       "<style scoped>\n",
       "    .dataframe tbody tr th:only-of-type {\n",
       "        vertical-align: middle;\n",
       "    }\n",
       "\n",
       "    .dataframe tbody tr th {\n",
       "        vertical-align: top;\n",
       "    }\n",
       "\n",
       "    .dataframe thead th {\n",
       "        text-align: right;\n",
       "    }\n",
       "</style>\n",
       "<table border=\"1\" class=\"dataframe\">\n",
       "  <thead>\n",
       "    <tr style=\"text-align: right;\">\n",
       "      <th></th>\n",
       "      <th>content</th>\n",
       "      <th>topic</th>\n",
       "    </tr>\n",
       "  </thead>\n",
       "  <tbody>\n",
       "    <tr>\n",
       "      <th>0</th>\n",
       "      <td>Коломна — один из старейших и богатых на досто...</td>\n",
       "      <td>7</td>\n",
       "    </tr>\n",
       "    <tr>\n",
       "      <th>1</th>\n",
       "      <td>МОСКВА, 31 дек — РИА Новости, Светлана Давыдов...</td>\n",
       "      <td>7</td>\n",
       "    </tr>\n",
       "    <tr>\n",
       "      <th>2</th>\n",
       "      <td>МОСКВА, 27 дек — РИА Новости, Светлана Давыдов...</td>\n",
       "      <td>7</td>\n",
       "    </tr>\n",
       "    <tr>\n",
       "      <th>3</th>\n",
       "      <td>МОСКВА, 15 дек — РИА Новости, Екатерина Мироно...</td>\n",
       "      <td>7</td>\n",
       "    </tr>\n",
       "    <tr>\n",
       "      <th>4</th>\n",
       "      <td>МОСКВА, 11 дек — РИА Новости, Светлана Давыдов...</td>\n",
       "      <td>7</td>\n",
       "    </tr>\n",
       "  </tbody>\n",
       "</table>\n",
       "</div>"
      ],
      "text/plain": [
       "                                             content  topic\n",
       "0  Коломна — один из старейших и богатых на досто...      7\n",
       "1  МОСКВА, 31 дек — РИА Новости, Светлана Давыдов...      7\n",
       "2  МОСКВА, 27 дек — РИА Новости, Светлана Давыдов...      7\n",
       "3  МОСКВА, 15 дек — РИА Новости, Екатерина Мироно...      7\n",
       "4  МОСКВА, 11 дек — РИА Новости, Светлана Давыдов...      7"
      ]
     },
     "execution_count": 79,
     "metadata": {},
     "output_type": "execute_result"
    }
   ],
   "source": [
    "ria_tourism = ria_tourism[['content', 'topic']]\n",
    "ria_tourism['topic'] = ria_tourism['topic'].replace('tourism', 7)\n",
    "ria_tourism.head()"
   ]
  },
  {
   "cell_type": "code",
   "execution_count": 129,
   "id": "1efad007-d25e-41f6-9ab1-5cb8dc3527da",
   "metadata": {},
   "outputs": [
    {
     "name": "stdout",
     "output_type": "stream",
     "text": [
      "<class 'pandas.core.frame.DataFrame'>\n",
      "RangeIndex: 166484 entries, 0 to 166483\n",
      "Data columns (total 2 columns):\n",
      " #   Column   Non-Null Count   Dtype \n",
      "---  ------   --------------   ----- \n",
      " 0   content  166484 non-null  object\n",
      " 1   topic    166484 non-null  int64 \n",
      "dtypes: int64(1), object(1)\n",
      "memory usage: 2.5+ MB\n"
     ]
    }
   ],
   "source": [
    "comb_2 = pd.concat([comb, ria_tourism, ria_science], axis=0, ignore_index=True)\n",
    "comb_2 = comb_2.drop_duplicates().reset_index(drop=True)\n",
    "comb_2.info()"
   ]
  },
  {
   "cell_type": "code",
   "execution_count": 84,
   "id": "e7b6643e-2c24-4455-8570-8d4a059df65e",
   "metadata": {},
   "outputs": [
    {
     "data": {
      "text/plain": [
       "0    49914\n",
       "1    22211\n",
       "3    21524\n",
       "4    17544\n",
       "8    15877\n",
       "5    12014\n",
       "2    11879\n",
       "7    11861\n",
       "6     3660\n",
       "Name: topic, dtype: int64"
      ]
     },
     "execution_count": 84,
     "metadata": {},
     "output_type": "execute_result"
    }
   ],
   "source": [
    "comb_2.topic.value_counts()"
   ]
  },
  {
   "cell_type": "code",
   "execution_count": 85,
   "id": "c0a1b106-a00a-4775-a123-7ec6feca48e8",
   "metadata": {},
   "outputs": [
    {
     "data": {
      "text/html": [
       "<div>\n",
       "<style scoped>\n",
       "    .dataframe tbody tr th:only-of-type {\n",
       "        vertical-align: middle;\n",
       "    }\n",
       "\n",
       "    .dataframe tbody tr th {\n",
       "        vertical-align: top;\n",
       "    }\n",
       "\n",
       "    .dataframe thead th {\n",
       "        text-align: right;\n",
       "    }\n",
       "</style>\n",
       "<table border=\"1\" class=\"dataframe\">\n",
       "  <thead>\n",
       "    <tr style=\"text-align: right;\">\n",
       "      <th></th>\n",
       "      <th>content</th>\n",
       "      <th>topic</th>\n",
       "    </tr>\n",
       "  </thead>\n",
       "  <tbody>\n",
       "    <tr>\n",
       "      <th>0</th>\n",
       "      <td>Лика Миргородская Пожар в сочинском лесу близ ...</td>\n",
       "      <td>0</td>\n",
       "    </tr>\n",
       "    <tr>\n",
       "      <th>1</th>\n",
       "      <td>Фото: Telegram-канал BAZA Лика Миргородская Те...</td>\n",
       "      <td>0</td>\n",
       "    </tr>\n",
       "    <tr>\n",
       "      <th>2</th>\n",
       "      <td>Владимир Зеленский Фото: Valentyn Ogirenko / R...</td>\n",
       "      <td>3</td>\n",
       "    </tr>\n",
       "    <tr>\n",
       "      <th>3</th>\n",
       "      <td>Фото: Владимир Песня / РИА Новости Илья Соболе...</td>\n",
       "      <td>0</td>\n",
       "    </tr>\n",
       "    <tr>\n",
       "      <th>4</th>\n",
       "      <td>Фото: Павел Бедняков / РИА Новости Милана Мика...</td>\n",
       "      <td>0</td>\n",
       "    </tr>\n",
       "  </tbody>\n",
       "</table>\n",
       "</div>"
      ],
      "text/plain": [
       "                                             content  topic\n",
       "0  Лика Миргородская Пожар в сочинском лесу близ ...      0\n",
       "1  Фото: Telegram-канал BAZA Лика Миргородская Те...      0\n",
       "2  Владимир Зеленский Фото: Valentyn Ogirenko / R...      3\n",
       "3  Фото: Владимир Песня / РИА Новости Илья Соболе...      0\n",
       "4  Фото: Павел Бедняков / РИА Новости Милана Мика...      0"
      ]
     },
     "execution_count": 85,
     "metadata": {},
     "output_type": "execute_result"
    }
   ],
   "source": [
    "comb_2.head()"
   ]
  },
  {
   "cell_type": "code",
   "execution_count": 86,
   "id": "793abccb-9fe5-4746-b257-6a661028f628",
   "metadata": {},
   "outputs": [],
   "source": [
    "comb_2.to_csv('full_news_3.csv', index=False)"
   ]
  }
 ],
 "metadata": {
  "kernelspec": {
   "display_name": "Python 3 (ipykernel)",
   "language": "python",
   "name": "python3"
  },
  "language_info": {
   "codemirror_mode": {
    "name": "ipython",
    "version": 3
   },
   "file_extension": ".py",
   "mimetype": "text/x-python",
   "name": "python",
   "nbconvert_exporter": "python",
   "pygments_lexer": "ipython3",
   "version": "3.9.13"
  }
 },
 "nbformat": 4,
 "nbformat_minor": 5
}
